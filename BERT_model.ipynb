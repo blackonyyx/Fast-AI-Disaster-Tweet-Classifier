{
  "nbformat": 4,
  "nbformat_minor": 0,
  "metadata": {
    "colab": {
      "name": "BERT-model.ipynb",
      "provenance": [],
      "collapsed_sections": []
    },
    "kernelspec": {
      "name": "python3",
      "display_name": "Python 3"
    },
    "accelerator": "GPU",
    "widgets": {
      "application/vnd.jupyter.widget-state+json": {
        "19438ae6bb644d9bb4436421e38bab9b": {
          "model_module": "@jupyter-widgets/controls",
          "model_name": "HBoxModel",
          "state": {
            "_view_name": "HBoxView",
            "_dom_classes": [],
            "_model_name": "HBoxModel",
            "_view_module": "@jupyter-widgets/controls",
            "_model_module_version": "1.5.0",
            "_view_count": null,
            "_view_module_version": "1.5.0",
            "box_style": "",
            "layout": "IPY_MODEL_f9754b8a6b48476aa3c6f656dd6ecbbd",
            "_model_module": "@jupyter-widgets/controls",
            "children": [
              "IPY_MODEL_7a82c178cfab41adb6efe66232b460ff",
              "IPY_MODEL_84c4fdd3684e4009951b00efb51b1b1c"
            ]
          }
        },
        "f9754b8a6b48476aa3c6f656dd6ecbbd": {
          "model_module": "@jupyter-widgets/base",
          "model_name": "LayoutModel",
          "state": {
            "_view_name": "LayoutView",
            "grid_template_rows": null,
            "right": null,
            "justify_content": null,
            "_view_module": "@jupyter-widgets/base",
            "overflow": null,
            "_model_module_version": "1.2.0",
            "_view_count": null,
            "flex_flow": null,
            "width": null,
            "min_width": null,
            "border": null,
            "align_items": null,
            "bottom": null,
            "_model_module": "@jupyter-widgets/base",
            "top": null,
            "grid_column": null,
            "overflow_y": null,
            "overflow_x": null,
            "grid_auto_flow": null,
            "grid_area": null,
            "grid_template_columns": null,
            "flex": null,
            "_model_name": "LayoutModel",
            "justify_items": null,
            "grid_row": null,
            "max_height": null,
            "align_content": null,
            "visibility": null,
            "align_self": null,
            "height": null,
            "min_height": null,
            "padding": null,
            "grid_auto_rows": null,
            "grid_gap": null,
            "max_width": null,
            "order": null,
            "_view_module_version": "1.2.0",
            "grid_template_areas": null,
            "object_position": null,
            "object_fit": null,
            "grid_auto_columns": null,
            "margin": null,
            "display": null,
            "left": null
          }
        },
        "7a82c178cfab41adb6efe66232b460ff": {
          "model_module": "@jupyter-widgets/controls",
          "model_name": "FloatProgressModel",
          "state": {
            "_view_name": "ProgressView",
            "style": "IPY_MODEL_e735bceafce44685896d17710f21c03d",
            "_dom_classes": [],
            "description": "100%",
            "_model_name": "FloatProgressModel",
            "bar_style": "success",
            "max": 1523,
            "_view_module": "@jupyter-widgets/controls",
            "_model_module_version": "1.5.0",
            "value": 1523,
            "_view_count": null,
            "_view_module_version": "1.5.0",
            "orientation": "horizontal",
            "min": 0,
            "description_tooltip": null,
            "_model_module": "@jupyter-widgets/controls",
            "layout": "IPY_MODEL_3076c3977ce74ec182742c2c2c5161b9"
          }
        },
        "84c4fdd3684e4009951b00efb51b1b1c": {
          "model_module": "@jupyter-widgets/controls",
          "model_name": "HTMLModel",
          "state": {
            "_view_name": "HTMLView",
            "style": "IPY_MODEL_404d35b58ec341d5a1bdd97e56cd8150",
            "_dom_classes": [],
            "description": "",
            "_model_name": "HTMLModel",
            "placeholder": "​",
            "_view_module": "@jupyter-widgets/controls",
            "_model_module_version": "1.5.0",
            "value": " 1523/1523 [00:07&lt;00:00, 199.94it/s]",
            "_view_count": null,
            "_view_module_version": "1.5.0",
            "description_tooltip": null,
            "_model_module": "@jupyter-widgets/controls",
            "layout": "IPY_MODEL_2d13b3bd7d1d49189a95b30d8a399d63"
          }
        },
        "e735bceafce44685896d17710f21c03d": {
          "model_module": "@jupyter-widgets/controls",
          "model_name": "ProgressStyleModel",
          "state": {
            "_view_name": "StyleView",
            "_model_name": "ProgressStyleModel",
            "description_width": "initial",
            "_view_module": "@jupyter-widgets/base",
            "_model_module_version": "1.5.0",
            "_view_count": null,
            "_view_module_version": "1.2.0",
            "bar_color": null,
            "_model_module": "@jupyter-widgets/controls"
          }
        },
        "3076c3977ce74ec182742c2c2c5161b9": {
          "model_module": "@jupyter-widgets/base",
          "model_name": "LayoutModel",
          "state": {
            "_view_name": "LayoutView",
            "grid_template_rows": null,
            "right": null,
            "justify_content": null,
            "_view_module": "@jupyter-widgets/base",
            "overflow": null,
            "_model_module_version": "1.2.0",
            "_view_count": null,
            "flex_flow": null,
            "width": null,
            "min_width": null,
            "border": null,
            "align_items": null,
            "bottom": null,
            "_model_module": "@jupyter-widgets/base",
            "top": null,
            "grid_column": null,
            "overflow_y": null,
            "overflow_x": null,
            "grid_auto_flow": null,
            "grid_area": null,
            "grid_template_columns": null,
            "flex": null,
            "_model_name": "LayoutModel",
            "justify_items": null,
            "grid_row": null,
            "max_height": null,
            "align_content": null,
            "visibility": null,
            "align_self": null,
            "height": null,
            "min_height": null,
            "padding": null,
            "grid_auto_rows": null,
            "grid_gap": null,
            "max_width": null,
            "order": null,
            "_view_module_version": "1.2.0",
            "grid_template_areas": null,
            "object_position": null,
            "object_fit": null,
            "grid_auto_columns": null,
            "margin": null,
            "display": null,
            "left": null
          }
        },
        "404d35b58ec341d5a1bdd97e56cd8150": {
          "model_module": "@jupyter-widgets/controls",
          "model_name": "DescriptionStyleModel",
          "state": {
            "_view_name": "StyleView",
            "_model_name": "DescriptionStyleModel",
            "description_width": "",
            "_view_module": "@jupyter-widgets/base",
            "_model_module_version": "1.5.0",
            "_view_count": null,
            "_view_module_version": "1.2.0",
            "_model_module": "@jupyter-widgets/controls"
          }
        },
        "2d13b3bd7d1d49189a95b30d8a399d63": {
          "model_module": "@jupyter-widgets/base",
          "model_name": "LayoutModel",
          "state": {
            "_view_name": "LayoutView",
            "grid_template_rows": null,
            "right": null,
            "justify_content": null,
            "_view_module": "@jupyter-widgets/base",
            "overflow": null,
            "_model_module_version": "1.2.0",
            "_view_count": null,
            "flex_flow": null,
            "width": null,
            "min_width": null,
            "border": null,
            "align_items": null,
            "bottom": null,
            "_model_module": "@jupyter-widgets/base",
            "top": null,
            "grid_column": null,
            "overflow_y": null,
            "overflow_x": null,
            "grid_auto_flow": null,
            "grid_area": null,
            "grid_template_columns": null,
            "flex": null,
            "_model_name": "LayoutModel",
            "justify_items": null,
            "grid_row": null,
            "max_height": null,
            "align_content": null,
            "visibility": null,
            "align_self": null,
            "height": null,
            "min_height": null,
            "padding": null,
            "grid_auto_rows": null,
            "grid_gap": null,
            "max_width": null,
            "order": null,
            "_view_module_version": "1.2.0",
            "grid_template_areas": null,
            "object_position": null,
            "object_fit": null,
            "grid_auto_columns": null,
            "margin": null,
            "display": null,
            "left": null
          }
        },
        "483d0ee86f1b45aaa180388f705e3c68": {
          "model_module": "@jupyter-widgets/controls",
          "model_name": "HBoxModel",
          "state": {
            "_view_name": "HBoxView",
            "_dom_classes": [],
            "_model_name": "HBoxModel",
            "_view_module": "@jupyter-widgets/controls",
            "_model_module_version": "1.5.0",
            "_view_count": null,
            "_view_module_version": "1.5.0",
            "box_style": "",
            "layout": "IPY_MODEL_0041033df348467cb0bb4f613eba3e99",
            "_model_module": "@jupyter-widgets/controls",
            "children": [
              "IPY_MODEL_b7f0680068c342008fd345bf641f5525",
              "IPY_MODEL_d1ded12f1d604c3c808fbc30537656c7"
            ]
          }
        },
        "0041033df348467cb0bb4f613eba3e99": {
          "model_module": "@jupyter-widgets/base",
          "model_name": "LayoutModel",
          "state": {
            "_view_name": "LayoutView",
            "grid_template_rows": null,
            "right": null,
            "justify_content": null,
            "_view_module": "@jupyter-widgets/base",
            "overflow": null,
            "_model_module_version": "1.2.0",
            "_view_count": null,
            "flex_flow": null,
            "width": null,
            "min_width": null,
            "border": null,
            "align_items": null,
            "bottom": null,
            "_model_module": "@jupyter-widgets/base",
            "top": null,
            "grid_column": null,
            "overflow_y": null,
            "overflow_x": null,
            "grid_auto_flow": null,
            "grid_area": null,
            "grid_template_columns": null,
            "flex": null,
            "_model_name": "LayoutModel",
            "justify_items": null,
            "grid_row": null,
            "max_height": null,
            "align_content": null,
            "visibility": null,
            "align_self": null,
            "height": null,
            "min_height": null,
            "padding": null,
            "grid_auto_rows": null,
            "grid_gap": null,
            "max_width": null,
            "order": null,
            "_view_module_version": "1.2.0",
            "grid_template_areas": null,
            "object_position": null,
            "object_fit": null,
            "grid_auto_columns": null,
            "margin": null,
            "display": null,
            "left": null
          }
        },
        "b7f0680068c342008fd345bf641f5525": {
          "model_module": "@jupyter-widgets/controls",
          "model_name": "FloatProgressModel",
          "state": {
            "_view_name": "ProgressView",
            "style": "IPY_MODEL_840c40e4ffef4275bfbe7924ba3e0138",
            "_dom_classes": [],
            "description": "Running Evaluation: 100%",
            "_model_name": "FloatProgressModel",
            "bar_style": "success",
            "max": 24,
            "_view_module": "@jupyter-widgets/controls",
            "_model_module_version": "1.5.0",
            "value": 24,
            "_view_count": null,
            "_view_module_version": "1.5.0",
            "orientation": "horizontal",
            "min": 0,
            "description_tooltip": null,
            "_model_module": "@jupyter-widgets/controls",
            "layout": "IPY_MODEL_caccd2e602004b858c492a7fdf45625a"
          }
        },
        "d1ded12f1d604c3c808fbc30537656c7": {
          "model_module": "@jupyter-widgets/controls",
          "model_name": "HTMLModel",
          "state": {
            "_view_name": "HTMLView",
            "style": "IPY_MODEL_551658c9e7164c26ba7c1eeafd8052da",
            "_dom_classes": [],
            "description": "",
            "_model_name": "HTMLModel",
            "placeholder": "​",
            "_view_module": "@jupyter-widgets/controls",
            "_model_module_version": "1.5.0",
            "value": " 24/24 [00:05&lt;00:00,  4.12it/s]",
            "_view_count": null,
            "_view_module_version": "1.5.0",
            "description_tooltip": null,
            "_model_module": "@jupyter-widgets/controls",
            "layout": "IPY_MODEL_5ce02866d9944ce4b7e03cf338416a9d"
          }
        },
        "840c40e4ffef4275bfbe7924ba3e0138": {
          "model_module": "@jupyter-widgets/controls",
          "model_name": "ProgressStyleModel",
          "state": {
            "_view_name": "StyleView",
            "_model_name": "ProgressStyleModel",
            "description_width": "initial",
            "_view_module": "@jupyter-widgets/base",
            "_model_module_version": "1.5.0",
            "_view_count": null,
            "_view_module_version": "1.2.0",
            "bar_color": null,
            "_model_module": "@jupyter-widgets/controls"
          }
        },
        "caccd2e602004b858c492a7fdf45625a": {
          "model_module": "@jupyter-widgets/base",
          "model_name": "LayoutModel",
          "state": {
            "_view_name": "LayoutView",
            "grid_template_rows": null,
            "right": null,
            "justify_content": null,
            "_view_module": "@jupyter-widgets/base",
            "overflow": null,
            "_model_module_version": "1.2.0",
            "_view_count": null,
            "flex_flow": null,
            "width": null,
            "min_width": null,
            "border": null,
            "align_items": null,
            "bottom": null,
            "_model_module": "@jupyter-widgets/base",
            "top": null,
            "grid_column": null,
            "overflow_y": null,
            "overflow_x": null,
            "grid_auto_flow": null,
            "grid_area": null,
            "grid_template_columns": null,
            "flex": null,
            "_model_name": "LayoutModel",
            "justify_items": null,
            "grid_row": null,
            "max_height": null,
            "align_content": null,
            "visibility": null,
            "align_self": null,
            "height": null,
            "min_height": null,
            "padding": null,
            "grid_auto_rows": null,
            "grid_gap": null,
            "max_width": null,
            "order": null,
            "_view_module_version": "1.2.0",
            "grid_template_areas": null,
            "object_position": null,
            "object_fit": null,
            "grid_auto_columns": null,
            "margin": null,
            "display": null,
            "left": null
          }
        },
        "551658c9e7164c26ba7c1eeafd8052da": {
          "model_module": "@jupyter-widgets/controls",
          "model_name": "DescriptionStyleModel",
          "state": {
            "_view_name": "StyleView",
            "_model_name": "DescriptionStyleModel",
            "description_width": "",
            "_view_module": "@jupyter-widgets/base",
            "_model_module_version": "1.5.0",
            "_view_count": null,
            "_view_module_version": "1.2.0",
            "_model_module": "@jupyter-widgets/controls"
          }
        },
        "5ce02866d9944ce4b7e03cf338416a9d": {
          "model_module": "@jupyter-widgets/base",
          "model_name": "LayoutModel",
          "state": {
            "_view_name": "LayoutView",
            "grid_template_rows": null,
            "right": null,
            "justify_content": null,
            "_view_module": "@jupyter-widgets/base",
            "overflow": null,
            "_model_module_version": "1.2.0",
            "_view_count": null,
            "flex_flow": null,
            "width": null,
            "min_width": null,
            "border": null,
            "align_items": null,
            "bottom": null,
            "_model_module": "@jupyter-widgets/base",
            "top": null,
            "grid_column": null,
            "overflow_y": null,
            "overflow_x": null,
            "grid_auto_flow": null,
            "grid_area": null,
            "grid_template_columns": null,
            "flex": null,
            "_model_name": "LayoutModel",
            "justify_items": null,
            "grid_row": null,
            "max_height": null,
            "align_content": null,
            "visibility": null,
            "align_self": null,
            "height": null,
            "min_height": null,
            "padding": null,
            "grid_auto_rows": null,
            "grid_gap": null,
            "max_width": null,
            "order": null,
            "_view_module_version": "1.2.0",
            "grid_template_areas": null,
            "object_position": null,
            "object_fit": null,
            "grid_auto_columns": null,
            "margin": null,
            "display": null,
            "left": null
          }
        },
        "306e812fb0a24f88b6ad90b31f856f99": {
          "model_module": "@jupyter-widgets/controls",
          "model_name": "HBoxModel",
          "state": {
            "_view_name": "HBoxView",
            "_dom_classes": [],
            "_model_name": "HBoxModel",
            "_view_module": "@jupyter-widgets/controls",
            "_model_module_version": "1.5.0",
            "_view_count": null,
            "_view_module_version": "1.5.0",
            "box_style": "",
            "layout": "IPY_MODEL_1ee262a01b2b481386daf40abd8f1dc3",
            "_model_module": "@jupyter-widgets/controls",
            "children": [
              "IPY_MODEL_8062d9213d2f411b8f48510688e6faf7",
              "IPY_MODEL_31b64d78af6746078c41fa5722aa3005"
            ]
          }
        },
        "1ee262a01b2b481386daf40abd8f1dc3": {
          "model_module": "@jupyter-widgets/base",
          "model_name": "LayoutModel",
          "state": {
            "_view_name": "LayoutView",
            "grid_template_rows": null,
            "right": null,
            "justify_content": null,
            "_view_module": "@jupyter-widgets/base",
            "overflow": null,
            "_model_module_version": "1.2.0",
            "_view_count": null,
            "flex_flow": null,
            "width": null,
            "min_width": null,
            "border": null,
            "align_items": null,
            "bottom": null,
            "_model_module": "@jupyter-widgets/base",
            "top": null,
            "grid_column": null,
            "overflow_y": null,
            "overflow_x": null,
            "grid_auto_flow": null,
            "grid_area": null,
            "grid_template_columns": null,
            "flex": null,
            "_model_name": "LayoutModel",
            "justify_items": null,
            "grid_row": null,
            "max_height": null,
            "align_content": null,
            "visibility": null,
            "align_self": null,
            "height": null,
            "min_height": null,
            "padding": null,
            "grid_auto_rows": null,
            "grid_gap": null,
            "max_width": null,
            "order": null,
            "_view_module_version": "1.2.0",
            "grid_template_areas": null,
            "object_position": null,
            "object_fit": null,
            "grid_auto_columns": null,
            "margin": null,
            "display": null,
            "left": null
          }
        },
        "8062d9213d2f411b8f48510688e6faf7": {
          "model_module": "@jupyter-widgets/controls",
          "model_name": "FloatProgressModel",
          "state": {
            "_view_name": "ProgressView",
            "style": "IPY_MODEL_69e5a15a4594482b9e0b1f21f50cefa8",
            "_dom_classes": [],
            "description": "100%",
            "_model_name": "FloatProgressModel",
            "bar_style": "success",
            "max": 1523,
            "_view_module": "@jupyter-widgets/controls",
            "_model_module_version": "1.5.0",
            "value": 1523,
            "_view_count": null,
            "_view_module_version": "1.5.0",
            "orientation": "horizontal",
            "min": 0,
            "description_tooltip": null,
            "_model_module": "@jupyter-widgets/controls",
            "layout": "IPY_MODEL_289af4c72e3145ea910cfbde1b181516"
          }
        },
        "31b64d78af6746078c41fa5722aa3005": {
          "model_module": "@jupyter-widgets/controls",
          "model_name": "HTMLModel",
          "state": {
            "_view_name": "HTMLView",
            "style": "IPY_MODEL_397fcefa44534b5baf76ae41a288ed08",
            "_dom_classes": [],
            "description": "",
            "_model_name": "HTMLModel",
            "placeholder": "​",
            "_view_module": "@jupyter-widgets/controls",
            "_model_module_version": "1.5.0",
            "value": " 1523/1523 [01:27&lt;00:00, 17.43it/s]",
            "_view_count": null,
            "_view_module_version": "1.5.0",
            "description_tooltip": null,
            "_model_module": "@jupyter-widgets/controls",
            "layout": "IPY_MODEL_a6bd995ec51d47518a219052e4952905"
          }
        },
        "69e5a15a4594482b9e0b1f21f50cefa8": {
          "model_module": "@jupyter-widgets/controls",
          "model_name": "ProgressStyleModel",
          "state": {
            "_view_name": "StyleView",
            "_model_name": "ProgressStyleModel",
            "description_width": "initial",
            "_view_module": "@jupyter-widgets/base",
            "_model_module_version": "1.5.0",
            "_view_count": null,
            "_view_module_version": "1.2.0",
            "bar_color": null,
            "_model_module": "@jupyter-widgets/controls"
          }
        },
        "289af4c72e3145ea910cfbde1b181516": {
          "model_module": "@jupyter-widgets/base",
          "model_name": "LayoutModel",
          "state": {
            "_view_name": "LayoutView",
            "grid_template_rows": null,
            "right": null,
            "justify_content": null,
            "_view_module": "@jupyter-widgets/base",
            "overflow": null,
            "_model_module_version": "1.2.0",
            "_view_count": null,
            "flex_flow": null,
            "width": null,
            "min_width": null,
            "border": null,
            "align_items": null,
            "bottom": null,
            "_model_module": "@jupyter-widgets/base",
            "top": null,
            "grid_column": null,
            "overflow_y": null,
            "overflow_x": null,
            "grid_auto_flow": null,
            "grid_area": null,
            "grid_template_columns": null,
            "flex": null,
            "_model_name": "LayoutModel",
            "justify_items": null,
            "grid_row": null,
            "max_height": null,
            "align_content": null,
            "visibility": null,
            "align_self": null,
            "height": null,
            "min_height": null,
            "padding": null,
            "grid_auto_rows": null,
            "grid_gap": null,
            "max_width": null,
            "order": null,
            "_view_module_version": "1.2.0",
            "grid_template_areas": null,
            "object_position": null,
            "object_fit": null,
            "grid_auto_columns": null,
            "margin": null,
            "display": null,
            "left": null
          }
        },
        "397fcefa44534b5baf76ae41a288ed08": {
          "model_module": "@jupyter-widgets/controls",
          "model_name": "DescriptionStyleModel",
          "state": {
            "_view_name": "StyleView",
            "_model_name": "DescriptionStyleModel",
            "description_width": "",
            "_view_module": "@jupyter-widgets/base",
            "_model_module_version": "1.5.0",
            "_view_count": null,
            "_view_module_version": "1.2.0",
            "_model_module": "@jupyter-widgets/controls"
          }
        },
        "a6bd995ec51d47518a219052e4952905": {
          "model_module": "@jupyter-widgets/base",
          "model_name": "LayoutModel",
          "state": {
            "_view_name": "LayoutView",
            "grid_template_rows": null,
            "right": null,
            "justify_content": null,
            "_view_module": "@jupyter-widgets/base",
            "overflow": null,
            "_model_module_version": "1.2.0",
            "_view_count": null,
            "flex_flow": null,
            "width": null,
            "min_width": null,
            "border": null,
            "align_items": null,
            "bottom": null,
            "_model_module": "@jupyter-widgets/base",
            "top": null,
            "grid_column": null,
            "overflow_y": null,
            "overflow_x": null,
            "grid_auto_flow": null,
            "grid_area": null,
            "grid_template_columns": null,
            "flex": null,
            "_model_name": "LayoutModel",
            "justify_items": null,
            "grid_row": null,
            "max_height": null,
            "align_content": null,
            "visibility": null,
            "align_self": null,
            "height": null,
            "min_height": null,
            "padding": null,
            "grid_auto_rows": null,
            "grid_gap": null,
            "max_width": null,
            "order": null,
            "_view_module_version": "1.2.0",
            "grid_template_areas": null,
            "object_position": null,
            "object_fit": null,
            "grid_auto_columns": null,
            "margin": null,
            "display": null,
            "left": null
          }
        },
        "b0053fbfed4e43299f361ea38d85a057": {
          "model_module": "@jupyter-widgets/controls",
          "model_name": "HBoxModel",
          "state": {
            "_view_name": "HBoxView",
            "_dom_classes": [],
            "_model_name": "HBoxModel",
            "_view_module": "@jupyter-widgets/controls",
            "_model_module_version": "1.5.0",
            "_view_count": null,
            "_view_module_version": "1.5.0",
            "box_style": "",
            "layout": "IPY_MODEL_f3b62fd1472e4cad96c4bcad5f8eb730",
            "_model_module": "@jupyter-widgets/controls",
            "children": [
              "IPY_MODEL_b985391cdcf44341a8d37a8653c50727",
              "IPY_MODEL_5cc23fc56c7d46a3834e8e3172ab01f7"
            ]
          }
        },
        "f3b62fd1472e4cad96c4bcad5f8eb730": {
          "model_module": "@jupyter-widgets/base",
          "model_name": "LayoutModel",
          "state": {
            "_view_name": "LayoutView",
            "grid_template_rows": null,
            "right": null,
            "justify_content": null,
            "_view_module": "@jupyter-widgets/base",
            "overflow": null,
            "_model_module_version": "1.2.0",
            "_view_count": null,
            "flex_flow": null,
            "width": null,
            "min_width": null,
            "border": null,
            "align_items": null,
            "bottom": null,
            "_model_module": "@jupyter-widgets/base",
            "top": null,
            "grid_column": null,
            "overflow_y": null,
            "overflow_x": null,
            "grid_auto_flow": null,
            "grid_area": null,
            "grid_template_columns": null,
            "flex": null,
            "_model_name": "LayoutModel",
            "justify_items": null,
            "grid_row": null,
            "max_height": null,
            "align_content": null,
            "visibility": null,
            "align_self": null,
            "height": null,
            "min_height": null,
            "padding": null,
            "grid_auto_rows": null,
            "grid_gap": null,
            "max_width": null,
            "order": null,
            "_view_module_version": "1.2.0",
            "grid_template_areas": null,
            "object_position": null,
            "object_fit": null,
            "grid_auto_columns": null,
            "margin": null,
            "display": null,
            "left": null
          }
        },
        "b985391cdcf44341a8d37a8653c50727": {
          "model_module": "@jupyter-widgets/controls",
          "model_name": "FloatProgressModel",
          "state": {
            "_view_name": "ProgressView",
            "style": "IPY_MODEL_f77912c2e1814a2bb7794cf84cce3dc4",
            "_dom_classes": [],
            "description": "Running Evaluation: 100%",
            "_model_name": "FloatProgressModel",
            "bar_style": "success",
            "max": 24,
            "_view_module": "@jupyter-widgets/controls",
            "_model_module_version": "1.5.0",
            "value": 24,
            "_view_count": null,
            "_view_module_version": "1.5.0",
            "orientation": "horizontal",
            "min": 0,
            "description_tooltip": null,
            "_model_module": "@jupyter-widgets/controls",
            "layout": "IPY_MODEL_c7f93e244c49475d8aaa15f6608286ae"
          }
        },
        "5cc23fc56c7d46a3834e8e3172ab01f7": {
          "model_module": "@jupyter-widgets/controls",
          "model_name": "HTMLModel",
          "state": {
            "_view_name": "HTMLView",
            "style": "IPY_MODEL_235f61577b684ffdbd842ca416b408cd",
            "_dom_classes": [],
            "description": "",
            "_model_name": "HTMLModel",
            "placeholder": "​",
            "_view_module": "@jupyter-widgets/controls",
            "_model_module_version": "1.5.0",
            "value": " 24/24 [00:05&lt;00:00,  4.24it/s]",
            "_view_count": null,
            "_view_module_version": "1.5.0",
            "description_tooltip": null,
            "_model_module": "@jupyter-widgets/controls",
            "layout": "IPY_MODEL_18063ba213534fbebdab50b1b349b1ee"
          }
        },
        "f77912c2e1814a2bb7794cf84cce3dc4": {
          "model_module": "@jupyter-widgets/controls",
          "model_name": "ProgressStyleModel",
          "state": {
            "_view_name": "StyleView",
            "_model_name": "ProgressStyleModel",
            "description_width": "initial",
            "_view_module": "@jupyter-widgets/base",
            "_model_module_version": "1.5.0",
            "_view_count": null,
            "_view_module_version": "1.2.0",
            "bar_color": null,
            "_model_module": "@jupyter-widgets/controls"
          }
        },
        "c7f93e244c49475d8aaa15f6608286ae": {
          "model_module": "@jupyter-widgets/base",
          "model_name": "LayoutModel",
          "state": {
            "_view_name": "LayoutView",
            "grid_template_rows": null,
            "right": null,
            "justify_content": null,
            "_view_module": "@jupyter-widgets/base",
            "overflow": null,
            "_model_module_version": "1.2.0",
            "_view_count": null,
            "flex_flow": null,
            "width": null,
            "min_width": null,
            "border": null,
            "align_items": null,
            "bottom": null,
            "_model_module": "@jupyter-widgets/base",
            "top": null,
            "grid_column": null,
            "overflow_y": null,
            "overflow_x": null,
            "grid_auto_flow": null,
            "grid_area": null,
            "grid_template_columns": null,
            "flex": null,
            "_model_name": "LayoutModel",
            "justify_items": null,
            "grid_row": null,
            "max_height": null,
            "align_content": null,
            "visibility": null,
            "align_self": null,
            "height": null,
            "min_height": null,
            "padding": null,
            "grid_auto_rows": null,
            "grid_gap": null,
            "max_width": null,
            "order": null,
            "_view_module_version": "1.2.0",
            "grid_template_areas": null,
            "object_position": null,
            "object_fit": null,
            "grid_auto_columns": null,
            "margin": null,
            "display": null,
            "left": null
          }
        },
        "235f61577b684ffdbd842ca416b408cd": {
          "model_module": "@jupyter-widgets/controls",
          "model_name": "DescriptionStyleModel",
          "state": {
            "_view_name": "StyleView",
            "_model_name": "DescriptionStyleModel",
            "description_width": "",
            "_view_module": "@jupyter-widgets/base",
            "_model_module_version": "1.5.0",
            "_view_count": null,
            "_view_module_version": "1.2.0",
            "_model_module": "@jupyter-widgets/controls"
          }
        },
        "18063ba213534fbebdab50b1b349b1ee": {
          "model_module": "@jupyter-widgets/base",
          "model_name": "LayoutModel",
          "state": {
            "_view_name": "LayoutView",
            "grid_template_rows": null,
            "right": null,
            "justify_content": null,
            "_view_module": "@jupyter-widgets/base",
            "overflow": null,
            "_model_module_version": "1.2.0",
            "_view_count": null,
            "flex_flow": null,
            "width": null,
            "min_width": null,
            "border": null,
            "align_items": null,
            "bottom": null,
            "_model_module": "@jupyter-widgets/base",
            "top": null,
            "grid_column": null,
            "overflow_y": null,
            "overflow_x": null,
            "grid_auto_flow": null,
            "grid_area": null,
            "grid_template_columns": null,
            "flex": null,
            "_model_name": "LayoutModel",
            "justify_items": null,
            "grid_row": null,
            "max_height": null,
            "align_content": null,
            "visibility": null,
            "align_self": null,
            "height": null,
            "min_height": null,
            "padding": null,
            "grid_auto_rows": null,
            "grid_gap": null,
            "max_width": null,
            "order": null,
            "_view_module_version": "1.2.0",
            "grid_template_areas": null,
            "object_position": null,
            "object_fit": null,
            "grid_auto_columns": null,
            "margin": null,
            "display": null,
            "left": null
          }
        }
      }
    }
  },
  "cells": [
    {
      "cell_type": "code",
      "metadata": {
        "id": "xrpZNkO-Fvkj",
        "colab_type": "code",
        "colab": {}
      },
      "source": [
        "!pip install pyspellchecker\n",
        "!pip install simpletransformers"
      ],
      "execution_count": null,
      "outputs": []
    },
    {
      "cell_type": "code",
      "metadata": {
        "id": "q7K8biTTFfIk",
        "colab_type": "code",
        "colab": {}
      },
      "source": [
        "import string\n",
        "import numpy as np\n",
        "import pandas as pd\n",
        "import re\n",
        "import sklearn\n",
        "from sklearn.model_selection import train_test_split\n",
        "from simpletransformers.classification import ClassificationModel\n",
        "import logging\n",
        "from spellchecker import SpellChecker\n",
        "spell = SpellChecker()\n",
        "import spacy\n",
        "nlp = spacy.load(\"en_core_web_sm\")\n",
        "import nltk\n",
        "from nltk.corpus import stopwords\n",
        "nltk.download('stopwords')\n",
        "stop = stopwords.words('english')\n",
        "\n",
        "emoticons_happy = {':-)', ':)', ';)', ':o)', ':]', ':3', ':c)', ':>', '=]', '8)', '=)', ':}', ':^)', ':-D', ':D', '8-D', '8D', 'x-D', 'xD', 'X-D', 'XD', '=-D', '=D', '=-3', '=3', ':-))', \":'-)\", \":')\", ':*', ':^*', '>:P', ':-P', ':P', 'X-P', 'x-p', 'xp', 'XP', ':-p', ':p', '=p', ':-b', ':b', '>:)', '>;)', '>:-)', '<3'}\n",
        "emoticons_sad = {':L', ':-/', '>:/', ':S', '>:[', ':@', ':-(', ':[', ':-||', '=L', ':<', ':-[', ':-<', '=\\\\', '=/', '>:(', ':(', '>.<', \":'-(\", \":'(\", ':\\\\', ':-c', ':c', ':{', '>:\\\\', ';('}\n",
        "emotes = emoticons_happy.union(emoticons_sad)"
      ],
      "execution_count": null,
      "outputs": []
    },
    {
      "cell_type": "code",
      "metadata": {
        "id": "44R_-JTfFlNE",
        "colab_type": "code",
        "colab": {
          "resources": {
            "http://localhost:8080/nbextensions/google.colab/files.js": {
              "data": "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",
              "ok": true,
              "headers": [
                [
                  "content-type",
                  "application/javascript"
                ]
              ],
              "status": 200,
              "status_text": ""
            }
          },
          "base_uri": "https://localhost:8080/",
          "height": 106
        },
        "outputId": "f8d520e2-addc-4667-9fd8-fc0808b1f934"
      },
      "source": [
        "from google.colab import files\n",
        "uploaded = files.upload()"
      ],
      "execution_count": null,
      "outputs": [
        {
          "output_type": "display_data",
          "data": {
            "text/html": [
              "\n",
              "     <input type=\"file\" id=\"files-f023ff70-212c-4200-91c8-c975531c5a81\" name=\"files[]\" multiple disabled\n",
              "        style=\"border:none\" />\n",
              "     <output id=\"result-f023ff70-212c-4200-91c8-c975531c5a81\">\n",
              "      Upload widget is only available when the cell has been executed in the\n",
              "      current browser session. Please rerun this cell to enable.\n",
              "      </output>\n",
              "      <script src=\"/nbextensions/google.colab/files.js\"></script> "
            ],
            "text/plain": [
              "<IPython.core.display.HTML object>"
            ]
          },
          "metadata": {
            "tags": []
          }
        },
        {
          "output_type": "stream",
          "text": [
            "Saving test.csv to test (1).csv\n",
            "Saving train.csv to train.csv\n"
          ],
          "name": "stdout"
        }
      ]
    },
    {
      "cell_type": "code",
      "metadata": {
        "id": "pveBGFMnHAqg",
        "colab_type": "code",
        "colab": {}
      },
      "source": [
        "import pandas as pd\n",
        "import io\n",
        "\n",
        "df = pd.read_csv(io.StringIO(uploaded['train.csv'].decode('utf-8')))\n",
        "test_df = pd.read_csv(io.StringIO(uploaded['test.csv'].decode('utf-8')))"
      ],
      "execution_count": null,
      "outputs": []
    },
    {
      "cell_type": "code",
      "metadata": {
        "id": "4hPOLVPPIEYo",
        "colab_type": "code",
        "colab": {}
      },
      "source": [
        "prepro_df = df.copy()\n",
        "prepro_test_df = test_df.copy()"
      ],
      "execution_count": null,
      "outputs": []
    },
    {
      "cell_type": "code",
      "metadata": {
        "id": "-0gldMsWIhGD",
        "colab_type": "code",
        "colab": {}
      },
      "source": [
        "def tokenize(text):\n",
        "    \"\"\"Given string, apply Spacy's nlp then return list of text\"\"\"\n",
        "    return [token.text for token in nlp(text)]\n",
        "\n",
        "def spellcorrect(text):\n",
        "    \"\"\"Given string, list-split, apply SpellChecker's correction,\n",
        "    return space-delimited list and no. of misspelt words\"\"\"\n",
        "    original_text = text.split()\n",
        "    corrected_text = [spell.correction(word) for word in original_text]\n",
        "    return \" \".join(corrected_text)\n",
        "\n",
        "def remove_url(text):\n",
        "    \"\"\"Given string, remove url by regex.\"\"\"\n",
        "    # url = re.compile(r'https?://\\S+|www\\.\\S+')  # Axel\n",
        "    url = re.compile(r'http[s]?://(?:[a-zA-Z]|[0-9]|[$-_@.&+]|[!*\\(\\),]|(?:%[0-9a-fA-F][0-9a-fA-F]))+')  # Tom\n",
        "    return url.sub(r'',text)\n",
        "\n",
        "def remove_html(text):\n",
        "    \"\"\"Given string, remove html by regex.\"\"\"\n",
        "    html=re.compile(r'<.*?>')\n",
        "    return html.sub(r'',text)\n",
        "\n",
        "def remove_digits(text):\n",
        "    \"\"\"Given string, remove digits.\"\"\"\n",
        "    text = ''.join([i for i in text if not i.isdigit()])\n",
        "    return text\n",
        "\n",
        "def remove_punctuations(text):\n",
        "    \"\"\"Given string, remove punctuations.\"\"\"\n",
        "    table=str.maketrans('','',string.punctuation)\n",
        "    return text.translate(table)\n",
        "\n",
        "def transform_lower_chars(text):\n",
        "    \"\"\"Given string, transform into lower characters.\"\"\"\n",
        "    return str(text).lower()\n",
        "\n",
        "def remove_emojis(text):\n",
        "    \"\"\"Given text, remove emojis.\"\"\"\n",
        "    emoji_pattern = re.compile(\"[\"\n",
        "                           u\"\\U0001F600-\\U0001F64F\"  # emoticons\n",
        "                           u\"\\U0001F300-\\U0001F5FF\"  # symbols & pictographs\n",
        "                           u\"\\U0001F680-\\U0001F6FF\"  # transport & map symbols\n",
        "                           u\"\\U0001F1E0-\\U0001F1FF\"  # flags (iOS)\n",
        "                           u\"\\U00002702-\\U000027B0\"\n",
        "                           u\"\\U000024C2-\\U0001F251\"\n",
        "                           \"]+\", flags=re.UNICODE)\n",
        "    return emoji_pattern.sub(r'', text)\n",
        "\n",
        "# ===== COLLECT METHODS =====\n",
        "\n",
        "def collect_url(string):\n",
        "    \"\"\"Given string, collect urls by regex\"\"\"\n",
        "    text = re.findall('http[s]?://(?:[a-zA-Z]|[0-9]|[$-_@.&+]|[!*\\(\\),]|(?:%[0-9a-fA-F][0-9a-fA-F]))+',string)\n",
        "    return \"\".join(text)\n",
        "\n",
        "def collect_stopwords(tokens):\n",
        "    \"\"\"Given list of words, collect only NLTK stopwords\"\"\"\n",
        "    return [token for token in tokens if token in stop]\n",
        "\n",
        "def collect_punctuations(text):\n",
        "    \"\"\"Given list of words, collect only string punctuations\"\"\"\n",
        "    return [c for c in text if c in string.punctuation]\n",
        "\n",
        "def collect_digits(text):\n",
        "    \"\"\"Given string, collect only digits\"\"\"\n",
        "    return \" \".join([c for c in text if c.isdigit()])\n",
        "\n",
        "def collect_uppercase_words(tokens):\n",
        "    \"\"\"Given list of tokens, collect only uppercase words\"\"\"\n",
        "    return [1 for token in tokens if token.isupper()]\n",
        "\n",
        "def collect_uppercase_chars(text):\n",
        "    \"\"\"Given string, collect only uppercase characters\"\"\"\n",
        "    return [1 for c in text if c.isupper()]\n",
        "\n",
        "def collect_url(string):\n",
        "    \"\"\"Given string, collect urls by regex.\"\"\"\n",
        "    text = re.findall('http[s]?://(?:[a-zA-Z]|[0-9]|[$-_@.&+]|[!*\\(\\),]|(?:%[0-9a-fA-F][0-9a-fA-F]))+',string)\n",
        "    return \"\".join(text)\n",
        "\n",
        "def collect_at_mentions(text):\n",
        "    \"\"\"Given string, collect @mentions by regex.\"\"\"\n",
        "    line=re.findall(r'(?<=@)\\w+',text)\n",
        "    return \" \".join(line)\n",
        "\n",
        "def collect_hashtags(text):\n",
        "    \"\"\"Given string, collect #hashtags by regex.\"\"\"\n",
        "    line=re.findall(r'(?<=#)\\w+',text)\n",
        "    return \" \".join(line)\n",
        "\n",
        "def collect_numbers(text):\n",
        "    \"\"\"Given string, collect raw numbers by regex.\"\"\"\n",
        "    line=re.findall(r'[0-9]+',text)\n",
        "    return \" \".join(line)\n",
        "\n",
        "def collect_entities(text):\n",
        "    \"\"\"Given list of tokens, collect entities using Spacy.\"\"\"\n",
        "    return [token.text for token in nlp(text).ents]\n",
        "\n",
        "\n",
        "# ===== NUMERIC METHODS =====\n",
        "def num_words(tokens):\n",
        "    \"\"\"Given list of words, return no. of words (int)\"\"\"\n",
        "    return len(tokens)\n",
        "\n",
        "def num_chars(text):\n",
        "    \"\"\"Given string, return no. of characters (int)\"\"\"\n",
        "    return len(text)\n",
        "\n",
        "def num_stopwords(tokens):\n",
        "    \"\"\"Given list of words, return no. of NLTK stopwords (int)\"\"\"\n",
        "    return len(collect_stopwords(tokens))\n",
        "\n",
        "def num_special_chars(text):\n",
        "    \"\"\"Given string, return no. of punctuation characters (int)\"\"\"\n",
        "    return len(collect_punctuations(text))\n",
        "\n",
        "def num_numeric(text):\n",
        "    \"\"\"Given string, return no. of digits (int)\"\"\"\n",
        "    return len(collect_digits(text))\n",
        "\n",
        "def num_uppercase_words(tokens):\n",
        "    \"\"\"Given list of words, return no. of uppercase words (int)\"\"\"\n",
        "    return len(collect_uppercase_words(tokens))\n",
        "\n",
        "def num_uppercase_chars(text):\n",
        "    \"\"\"Given string, return no. of uppercase characters (int)\"\"\"\n",
        "    return len(collect_uppercase_chars(text))\n",
        "\n",
        "def num_misspelt_words(text):\n",
        "    \"\"\"Given string, return no. of misspelt words.\"\"\"\n",
        "    original_text = text.split()\n",
        "    corrected_text = spellcorrect(text)\n",
        "    return sum([1 for o, c in zip(original_text, corrected_text) if o != c])\n",
        "\n",
        "def num_entities(text):\n",
        "    \"\"\"Given text, get no. of entities.\"\"\"\n",
        "    return len(collect_entities(text))\n",
        "\n",
        "\n",
        "# ===== DERIVED FEATURES =====\n",
        "def sum_word_len(tokens):\n",
        "    \"\"\"Given list of words, return sum of length of words (int)\"\"\"\n",
        "    return sum([len(token) for token in tokens])\n",
        "\n",
        "def avg_word_len(tokens):\n",
        "    \"\"\"Given list of words, return average word length (int)\"\"\"\n",
        "    return sum_word_len(tokens) / num_words(tokens)\n",
        "\n",
        "def ratio_uppercase_chars(text):\n",
        "    \"\"\"Given text, return ratio of uppercase words (float)\"\"\"\n",
        "    return num_uppercase_chars(text) / num_chars(text)\n",
        "\n",
        "# ===== BOOLEAN METHODS =====\n",
        "def is_emote(tokens):\n",
        "    return [1 for token in tokens if token in emotes]\n"
      ],
      "execution_count": null,
      "outputs": []
    },
    {
      "cell_type": "code",
      "metadata": {
        "id": "SydwlXmLHOjg",
        "colab_type": "code",
        "colab": {}
      },
      "source": [
        "def preprocess(df):\n",
        "    # Transformations\n",
        "    df['text'] = df['text'].apply(remove_html)\n",
        "    print('done')\n",
        "    df['location'].fillna(0, inplace=True)\n",
        "    print('done')\n",
        "    df['keyword'].fillna(0, inplace=True)\n",
        "    print('done')\n",
        "\n",
        "    # Feature creation\n",
        "    df['tokens'] = df['text'].apply(tokenize)\n",
        "    print('done')\n",
        "    df['url'] = df['text'].apply(collect_url)\n",
        "    print('done')\n",
        "    df['at_mentions'] = df['text'].apply(collect_at_mentions)\n",
        "    print('done')\n",
        "    df['hashtags'] = df['text'].apply(collect_hashtags)\n",
        "    print('done')\n",
        "    df['numbers'] = df['text'].apply(collect_numbers)\n",
        "    print('done')\n",
        "    df['digits'] = df['text'].apply(collect_digits)\n",
        "    print('done')\n",
        "\n",
        "    # Numeric features\n",
        "    df['num_special_chars'] = df['text'].apply(num_special_chars)\n",
        "    print('done')\n",
        "    df['num_chars'] = df['text'].apply(num_chars)\n",
        "    print('done')\n",
        "    df['num_words'] = df['tokens'].apply(num_words)\n",
        "    print('done')\n",
        "    df['num_stopwords'] = df['tokens'].apply(num_stopwords)\n",
        "    print('done')\n",
        "    df['num_numeric'] = df['text'].apply(num_numeric)\n",
        "    print('done')\n",
        "    df['num_uppercase_words'] = df['tokens'].apply(num_uppercase_words)\n",
        "    print('done')\n",
        "    df['num_uppercase_chars'] = df['text'].apply(num_uppercase_chars)\n",
        "    print('done')\n",
        "    df['length'] = df['text'].apply(len)\n",
        "    print('done')\n",
        "    df['num_hashtags'] = df['text'].apply(lambda x: len([c for c in str(x) if c == '#']))\n",
        "    print('done')\n",
        "    df['num_mentions'] = df['text'].apply(lambda x: len([c for c in str(x) if c == '@']))\n",
        "    print('done')\n",
        "    df['count_capital_letters'] = df['text'].apply(lambda x: len(re.findall(r'[A-Z]', x)))\n",
        "    print('done')\n",
        "    df['ratio_capital_letters'] = df['length'] / df['count_capital_letters']\n",
        "    print('done')\n",
        "    df['external_url'] = df['text'].apply(collect_url)\n",
        "    print('done')\n",
        "    df['num_entities'] = df['text'].apply(num_entities)\n",
        "    print('done')\n",
        "\n",
        "    # Derived features\n",
        "    df['sum_word_len'] = df['tokens'].apply(sum_word_len)\n",
        "    print('done')\n",
        "    df['avg_word_len'] = df['tokens'].apply(avg_word_len)\n",
        "    print('done')\n",
        "    df['ratio_uppercase_chars'] = df['text'].apply(ratio_uppercase_chars)\n",
        "    print('done')\n",
        "    # Final text cleaning\n",
        "    df['text'] = df['text'].apply(remove_url)\n",
        "    print('done')\n",
        "    df['text'] = df['text'].apply(transform_lower_chars)\n",
        "    print('done')\n",
        "    df['text'] = df['text'].apply(remove_digits)\n",
        "    print('done')\n",
        "    df['text'] = df['text'].apply(remove_punctuations)\n",
        "    print('done')\n",
        "    df['text'] = df['text'].apply(remove_emojis)\n",
        "    print('done')"
      ],
      "execution_count": null,
      "outputs": []
    },
    {
      "cell_type": "code",
      "metadata": {
        "id": "vU3Niyj0IDMx",
        "colab_type": "code",
        "colab": {}
      },
      "source": [
        "preprocess(prepro_df)\n",
        "preprocess(prepro_test_df)"
      ],
      "execution_count": null,
      "outputs": []
    },
    {
      "cell_type": "code",
      "metadata": {
        "id": "OjEJT6FdpyL6",
        "colab_type": "code",
        "colab": {}
      },
      "source": [
        "prepro_test_df.to_pickle(\"test.pkl\")\n",
        "prepro_df.to_pickle(\"test.pkl\")\n",
        "test_df1 = pd.read_pickle(\"/content/drive/My Drive/Colab Notebooks/Fake-tweets/test.pkl\")\n",
        "training_df1 = pd.read_pickle(\"/content/drive/My Drive/Colab Notebooks/Fake-tweets/prepro.pkl\")"
      ],
      "execution_count": 3,
      "outputs": []
    },
    {
      "cell_type": "code",
      "metadata": {
        "id": "nMo8j-Eqp_lL",
        "colab_type": "code",
        "colab": {
          "base_uri": "https://localhost:8080/",
          "height": 218
        },
        "outputId": "8c3e07cc-9014-4fc4-8574-629f35cb8a41"
      },
      "source": [
        "bert_df = training_df1[[\"text\", \"target\"]]\n",
        "bert_df.rename(columns={'target': 'labels'}, inplace=True)\n",
        "X_train, X_test, y_train, y_test = train_test_split(bert_df['text'], bert_df['labels'], test_size=0.20)\n",
        "train_df = pd.concat([X_train, y_train], axis=1)\n",
        "print(\"Shape of training data set: \", train_df.shape)\n",
        "print(\"View of data set: \", train_df.head())"
      ],
      "execution_count": 4,
      "outputs": [
        {
          "output_type": "stream",
          "text": [
            "Shape of training data set:  (6090, 2)\n",
            "View of data set:                                                     text  labels\n",
            "4843  another white guy trying to mass murder people...       1\n",
            "7554  james kunstler how bad architecture wrecked ci...       0\n",
            "7288  whirlwind weekend  starts in  hours cantwaitto...       0\n",
            "4635  most of us ddnt get this english  rt reigncoco...       0\n",
            "3184    hello calgary important news please be advised        1\n"
          ],
          "name": "stdout"
        },
        {
          "output_type": "stream",
          "text": [
            "/usr/local/lib/python3.6/dist-packages/pandas/core/frame.py:4133: SettingWithCopyWarning: \n",
            "A value is trying to be set on a copy of a slice from a DataFrame\n",
            "\n",
            "See the caveats in the documentation: https://pandas.pydata.org/pandas-docs/stable/user_guide/indexing.html#returning-a-view-versus-a-copy\n",
            "  errors=errors,\n"
          ],
          "name": "stderr"
        }
      ]
    },
    {
      "cell_type": "code",
      "metadata": {
        "id": "aG2q2vZOr_go",
        "colab_type": "code",
        "colab": {
          "base_uri": "https://localhost:8080/",
          "height": 34
        },
        "outputId": "e0669e6b-57fb-42cd-e1fc-9ba89380e618"
      },
      "source": [
        "eval_df = pd.concat([X_test, y_test], axis=1)\n",
        "print(\"Shape of Eval data set: \", eval_df.shape)"
      ],
      "execution_count": 5,
      "outputs": [
        {
          "output_type": "stream",
          "text": [
            "Shape of Eval data set:  (1523, 2)\n"
          ],
          "name": "stdout"
        }
      ]
    },
    {
      "cell_type": "code",
      "metadata": {
        "id": "szw4jwMyVzc5",
        "colab_type": "code",
        "colab": {}
      },
      "source": [
        "logging.basicConfig(level=logging.INFO)\n",
        "transformers_logger = logging.getLogger(\"transformers\")\n",
        "transformers_logger.setLevel(logging.WARNING)\n",
        "\n",
        "train_args = {\n",
        "    'evaluate_during_training': True,\n",
        "    'logging_steps': 100,\n",
        "    'num_train_epochs': 2,\n",
        "    'evaluate_during_training_steps': 100,\n",
        "    'save_eval_checkpoints': False,\n",
        "    'train_batch_size': 32,\n",
        "    'eval_batch_size': 64,\n",
        "    'overwrite_output_dir': True,\n",
        "    'fp16': False,\n",
        "    'wandb_project': \"visualization-demo\"\n",
        "}\n",
        "model_BERT = ClassificationModel('bert', 'bert-base-cased', num_labels=2, use_cuda=True, cuda_device=0, args=train_args)"
      ],
      "execution_count": null,
      "outputs": []
    },
    {
      "cell_type": "code",
      "metadata": {
        "id": "V1KFOqAb5X0i",
        "colab_type": "code",
        "colab": {
          "base_uri": "https://localhost:8080/",
          "height": 34
        },
        "outputId": "87458b1a-3e7f-41f8-892c-fb6d9eb52dc3"
      },
      "source": [
        "wandb.login()"
      ],
      "execution_count": 21,
      "outputs": [
        {
          "output_type": "execute_result",
          "data": {
            "text/plain": [
              "True"
            ]
          },
          "metadata": {
            "tags": []
          },
          "execution_count": 21
        }
      ]
    },
    {
      "cell_type": "code",
      "metadata": {
        "id": "Hq7p4PzQsZD6",
        "colab_type": "code",
        "colab": {}
      },
      "source": [
        "model_BERT.train_model(train_df, eval_df=eval_df)"
      ],
      "execution_count": null,
      "outputs": []
    },
    {
      "cell_type": "code",
      "metadata": {
        "id": "odbU0h7CtMWt",
        "colab_type": "code",
        "colab": {
          "base_uri": "https://localhost:8080/",
          "height": 571,
          "referenced_widgets": [
            "19438ae6bb644d9bb4436421e38bab9b",
            "f9754b8a6b48476aa3c6f656dd6ecbbd",
            "7a82c178cfab41adb6efe66232b460ff",
            "84c4fdd3684e4009951b00efb51b1b1c",
            "e735bceafce44685896d17710f21c03d",
            "3076c3977ce74ec182742c2c2c5161b9",
            "404d35b58ec341d5a1bdd97e56cd8150",
            "2d13b3bd7d1d49189a95b30d8a399d63",
            "483d0ee86f1b45aaa180388f705e3c68",
            "0041033df348467cb0bb4f613eba3e99",
            "b7f0680068c342008fd345bf641f5525",
            "d1ded12f1d604c3c808fbc30537656c7",
            "840c40e4ffef4275bfbe7924ba3e0138",
            "caccd2e602004b858c492a7fdf45625a",
            "551658c9e7164c26ba7c1eeafd8052da",
            "5ce02866d9944ce4b7e03cf338416a9d"
          ]
        },
        "outputId": "d1d38e4c-3462-4439-d859-5115f9210d9a"
      },
      "source": [
        "result_acc, model_outputs, wrong_predictions = model_BERT.eval_model(eval_df, acc=sklearn.metrics.accuracy_score)"
      ],
      "execution_count": 29,
      "outputs": [
        {
          "output_type": "stream",
          "text": [
            "INFO:simpletransformers.classification.classification_model: Converting to features started. Cache is not used.\n"
          ],
          "name": "stderr"
        },
        {
          "output_type": "display_data",
          "data": {
            "application/vnd.jupyter.widget-view+json": {
              "model_id": "19438ae6bb644d9bb4436421e38bab9b",
              "version_minor": 0,
              "version_major": 2
            },
            "text/plain": [
              "HBox(children=(FloatProgress(value=0.0, max=1523.0), HTML(value='')))"
            ]
          },
          "metadata": {
            "tags": []
          }
        },
        {
          "output_type": "stream",
          "text": [
            "\n"
          ],
          "name": "stdout"
        },
        {
          "output_type": "display_data",
          "data": {
            "application/vnd.jupyter.widget-view+json": {
              "model_id": "483d0ee86f1b45aaa180388f705e3c68",
              "version_minor": 0,
              "version_major": 2
            },
            "text/plain": [
              "HBox(children=(FloatProgress(value=0.0, description='Running Evaluation', max=24.0, style=ProgressStyle(descri…"
            ]
          },
          "metadata": {
            "tags": []
          }
        },
        {
          "output_type": "stream",
          "text": [
            "\n"
          ],
          "name": "stdout"
        },
        {
          "output_type": "display_data",
          "data": {
            "text/html": [
              "\n",
              "                Logging results to <a href=\"https://wandb.com\" target=\"_blank\">Weights & Biases</a> <a href=\"https://docs.wandb.com/integrations/jupyter.html\" target=\"_blank\">(Documentation)</a>.<br/>\n",
              "                Project page: <a href=\"https://app.wandb.ai/tomjoju/visualization-demo\" target=\"_blank\">https://app.wandb.ai/tomjoju/visualization-demo</a><br/>\n",
              "                Run page: <a href=\"https://app.wandb.ai/tomjoju/visualization-demo/runs/hfd2dkge\" target=\"_blank\">https://app.wandb.ai/tomjoju/visualization-demo/runs/hfd2dkge</a><br/>\n",
              "            "
            ],
            "text/plain": [
              "<IPython.core.display.HTML object>"
            ]
          },
          "metadata": {
            "tags": []
          }
        },
        {
          "output_type": "stream",
          "text": [
            "INFO:wandb.run_manager:system metrics and metadata threads started\n",
            "INFO:wandb.run_manager:checking resume status, waiting at most 10 seconds\n",
            "INFO:wandb.run_manager:resuming run from id: UnVuOnYxOmhmZDJka2dlOnZpc3VhbGl6YXRpb24tZGVtbzp0b21qb2p1\n",
            "INFO:wandb.run_manager:upserting run before process can begin, waiting at most 10 seconds\n",
            "INFO:wandb.run_manager:saving pip packages\n",
            "INFO:wandb.run_manager:initializing streaming files api\n",
            "INFO:wandb.run_manager:unblocking file change observer, beginning sync with W&B servers\n",
            "INFO:simpletransformers.classification.classification_model:{'mcc': 0.6624135700521033, 'tp': 493, 'tn': 779, 'fp': 89, 'fn': 162, 'eval_loss': 0.41910775129993755, 'acc': 0.835193696651346}\n",
            "INFO:wandb.run_manager:shutting down system stats and metadata service\n",
            "INFO:wandb.run_manager:file/dir modified: /content/wandb/run-20200726_070356-hfd2dkge/config.yaml\n",
            "INFO:wandb.run_manager:stopping streaming files and file change observer\n",
            "INFO:wandb.run_manager:file/dir created: /content/wandb/run-20200726_070356-hfd2dkge/requirements.txt\n",
            "INFO:wandb.run_manager:file/dir created: /content/wandb/run-20200726_070356-hfd2dkge/wandb-history.jsonl\n",
            "INFO:wandb.run_manager:file/dir created: /content/wandb/run-20200726_070356-hfd2dkge/media/table/confusion_matrix_2_5a429b1b.table.json\n",
            "INFO:wandb.run_manager:file/dir created: /content/wandb/run-20200726_070356-hfd2dkge/media/table/roc_0_108b66e3.table.json\n",
            "INFO:wandb.run_manager:file/dir created: /content/wandb/run-20200726_070356-hfd2dkge/wandb-metadata.json\n",
            "INFO:wandb.run_manager:file/dir created: /content/wandb/run-20200726_070356-hfd2dkge/wandb-events.jsonl\n",
            "INFO:wandb.run_manager:file/dir created: /content/wandb/run-20200726_070356-hfd2dkge/media/table/pr_1_81adaf8e.table.json\n",
            "INFO:wandb.run_manager:file/dir created: /content/wandb/run-20200726_070356-hfd2dkge/wandb-summary.json\n",
            "INFO:wandb.run_manager:file/dir created: /content/wandb/run-20200726_070356-hfd2dkge/media/table\n",
            "INFO:wandb.run_manager:file/dir created: /content/wandb/run-20200726_070356-hfd2dkge/media\n",
            "INFO:wandb.run_manager:file/dir modified: /content/wandb/run-20200726_070356-hfd2dkge/wandb-metadata.json\n"
          ],
          "name": "stderr"
        }
      ]
    },
    {
      "cell_type": "code",
      "metadata": {
        "id": "r2CAXOvC7zCx",
        "colab_type": "code",
        "colab": {
          "base_uri": "https://localhost:8080/",
          "height": 134
        },
        "outputId": "b82ff676-0244-488d-bc99-43aeb274963d"
      },
      "source": [
        "result_acc"
      ],
      "execution_count": 30,
      "outputs": [
        {
          "output_type": "execute_result",
          "data": {
            "text/plain": [
              "{'acc': 0.835193696651346,\n",
              " 'eval_loss': 0.41910775129993755,\n",
              " 'fn': 162,\n",
              " 'fp': 89,\n",
              " 'mcc': 0.6624135700521033,\n",
              " 'tn': 779,\n",
              " 'tp': 493}"
            ]
          },
          "metadata": {
            "tags": []
          },
          "execution_count": 30
        }
      ]
    },
    {
      "cell_type": "code",
      "metadata": {
        "id": "2YLxyGPffevX",
        "colab_type": "code",
        "colab": {
          "base_uri": "https://localhost:8080/",
          "height": 571,
          "referenced_widgets": [
            "306e812fb0a24f88b6ad90b31f856f99",
            "1ee262a01b2b481386daf40abd8f1dc3",
            "8062d9213d2f411b8f48510688e6faf7",
            "31b64d78af6746078c41fa5722aa3005",
            "69e5a15a4594482b9e0b1f21f50cefa8",
            "289af4c72e3145ea910cfbde1b181516",
            "397fcefa44534b5baf76ae41a288ed08",
            "a6bd995ec51d47518a219052e4952905",
            "b0053fbfed4e43299f361ea38d85a057",
            "f3b62fd1472e4cad96c4bcad5f8eb730",
            "b985391cdcf44341a8d37a8653c50727",
            "5cc23fc56c7d46a3834e8e3172ab01f7",
            "f77912c2e1814a2bb7794cf84cce3dc4",
            "c7f93e244c49475d8aaa15f6608286ae",
            "235f61577b684ffdbd842ca416b408cd",
            "18063ba213534fbebdab50b1b349b1ee"
          ]
        },
        "outputId": "6ae6d11f-7ae4-4b15-80b1-2b4d4df64c0e"
      },
      "source": [
        "result_f1, model_outputs, wrong_predictions = model_BERT.eval_model(eval_df, acc=sklearn.metrics.f1_score)"
      ],
      "execution_count": 27,
      "outputs": [
        {
          "output_type": "stream",
          "text": [
            "INFO:simpletransformers.classification.classification_model: Converting to features started. Cache is not used.\n"
          ],
          "name": "stderr"
        },
        {
          "output_type": "display_data",
          "data": {
            "application/vnd.jupyter.widget-view+json": {
              "model_id": "306e812fb0a24f88b6ad90b31f856f99",
              "version_minor": 0,
              "version_major": 2
            },
            "text/plain": [
              "HBox(children=(FloatProgress(value=0.0, max=1523.0), HTML(value='')))"
            ]
          },
          "metadata": {
            "tags": []
          }
        },
        {
          "output_type": "stream",
          "text": [
            "\n"
          ],
          "name": "stdout"
        },
        {
          "output_type": "display_data",
          "data": {
            "application/vnd.jupyter.widget-view+json": {
              "model_id": "b0053fbfed4e43299f361ea38d85a057",
              "version_minor": 0,
              "version_major": 2
            },
            "text/plain": [
              "HBox(children=(FloatProgress(value=0.0, description='Running Evaluation', max=24.0, style=ProgressStyle(descri…"
            ]
          },
          "metadata": {
            "tags": []
          }
        },
        {
          "output_type": "stream",
          "text": [
            "\n"
          ],
          "name": "stdout"
        },
        {
          "output_type": "display_data",
          "data": {
            "text/html": [
              "\n",
              "                Logging results to <a href=\"https://wandb.com\" target=\"_blank\">Weights & Biases</a> <a href=\"https://docs.wandb.com/integrations/jupyter.html\" target=\"_blank\">(Documentation)</a>.<br/>\n",
              "                Project page: <a href=\"https://app.wandb.ai/tomjoju/visualization-demo\" target=\"_blank\">https://app.wandb.ai/tomjoju/visualization-demo</a><br/>\n",
              "                Run page: <a href=\"https://app.wandb.ai/tomjoju/visualization-demo/runs/2wert0gw\" target=\"_blank\">https://app.wandb.ai/tomjoju/visualization-demo/runs/2wert0gw</a><br/>\n",
              "            "
            ],
            "text/plain": [
              "<IPython.core.display.HTML object>"
            ]
          },
          "metadata": {
            "tags": []
          }
        },
        {
          "output_type": "stream",
          "text": [
            "INFO:wandb.run_manager:system metrics and metadata threads started\n",
            "INFO:wandb.run_manager:checking resume status, waiting at most 10 seconds\n",
            "INFO:wandb.run_manager:resuming run from id: UnVuOnYxOjJ3ZXJ0MGd3OnZpc3VhbGl6YXRpb24tZGVtbzp0b21qb2p1\n",
            "INFO:wandb.run_manager:upserting run before process can begin, waiting at most 10 seconds\n",
            "INFO:wandb.run_manager:saving pip packages\n",
            "INFO:wandb.run_manager:initializing streaming files api\n",
            "INFO:wandb.run_manager:unblocking file change observer, beginning sync with W&B servers\n",
            "INFO:simpletransformers.classification.classification_model:{'mcc': 0.6624135700521033, 'tp': 493, 'tn': 779, 'fp': 89, 'fn': 162, 'eval_loss': 0.41910775129993755, 'acc': 0.7970897332255457}\n",
            "INFO:wandb.run_manager:shutting down system stats and metadata service\n",
            "INFO:wandb.run_manager:file/dir modified: /content/wandb/run-20200726_070236-2wert0gw/config.yaml\n",
            "INFO:wandb.run_manager:stopping streaming files and file change observer\n",
            "INFO:wandb.run_manager:file/dir created: /content/wandb/run-20200726_070236-2wert0gw/wandb-metadata.json\n",
            "INFO:wandb.run_manager:file/dir created: /content/wandb/run-20200726_070236-2wert0gw/wandb-events.jsonl\n",
            "INFO:wandb.run_manager:file/dir created: /content/wandb/run-20200726_070236-2wert0gw/wandb-history.jsonl\n",
            "INFO:wandb.run_manager:file/dir created: /content/wandb/run-20200726_070236-2wert0gw/requirements.txt\n",
            "INFO:wandb.run_manager:file/dir created: /content/wandb/run-20200726_070236-2wert0gw/wandb-summary.json\n",
            "INFO:wandb.run_manager:file/dir created: /content/wandb/run-20200726_070236-2wert0gw/media/table/roc_0_108b66e3.table.json\n",
            "INFO:wandb.run_manager:file/dir created: /content/wandb/run-20200726_070236-2wert0gw/media/table/confusion_matrix_2_5a429b1b.table.json\n",
            "INFO:wandb.run_manager:file/dir created: /content/wandb/run-20200726_070236-2wert0gw/media/table/pr_1_81adaf8e.table.json\n",
            "INFO:wandb.run_manager:file/dir created: /content/wandb/run-20200726_070236-2wert0gw/media\n",
            "INFO:wandb.run_manager:file/dir created: /content/wandb/run-20200726_070236-2wert0gw/media/table\n",
            "INFO:wandb.run_manager:file/dir modified: /content/wandb/run-20200726_070236-2wert0gw/wandb-metadata.json\n"
          ],
          "name": "stderr"
        }
      ]
    },
    {
      "cell_type": "code",
      "metadata": {
        "id": "HJgRdMbf7QIo",
        "colab_type": "code",
        "colab": {
          "base_uri": "https://localhost:8080/",
          "height": 134
        },
        "outputId": "0a89f1ec-ee5a-4ee8-b669-0840d9fdb2db"
      },
      "source": [
        "result_f1"
      ],
      "execution_count": 28,
      "outputs": [
        {
          "output_type": "execute_result",
          "data": {
            "text/plain": [
              "{'acc': 0.7970897332255457,\n",
              " 'eval_loss': 0.41910775129993755,\n",
              " 'fn': 162,\n",
              " 'fp': 89,\n",
              " 'mcc': 0.6624135700521033,\n",
              " 'tn': 779,\n",
              " 'tp': 493}"
            ]
          },
          "metadata": {
            "tags": []
          },
          "execution_count": 28
        }
      ]
    }
  ]
}